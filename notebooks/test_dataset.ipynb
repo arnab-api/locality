{
 "cells": [
  {
   "cell_type": "code",
   "execution_count": 3,
   "metadata": {},
   "outputs": [
    {
     "name": "stdout",
     "output_type": "stream",
     "text": [
      "The autoreload extension is already loaded. To reload it, use:\n",
      "  %reload_ext autoreload\n"
     ]
    }
   ],
   "source": [
    "%load_ext autoreload\n",
    "%autoreload 2\n",
    "\n",
    "import os\n",
    "import sys\n",
    "sys.path.append(os.path.abspath(os.path.join('..')))"
   ]
  },
  {
   "cell_type": "code",
   "execution_count": 5,
   "metadata": {},
   "outputs": [
    {
     "name": "stdout",
     "output_type": "stream",
     "text": [
      "Loaded dataset with 21919 elements\n"
     ]
    },
    {
     "data": {
      "text/plain": [
       "[('Inner Circle railway line', 'Melbourne'),\n",
       " ('2010 Winter Paralympics', 'Vancouver'),\n",
       " ('Hamburg International Film Festival', 'Hamburg'),\n",
       " ('PAX', 'Seattle')]"
      ]
     },
     "execution_count": 5,
     "metadata": {},
     "output_type": "execute_result"
    }
   ],
   "source": [
    "from dsets.counterfact import CounterFactDataset\n",
    "\n",
    "counterfact = CounterFactDataset(data_dir=\"../counterfact\")\n",
    "\n",
    "located_in_city = [d for d in counterfact if d['requested_rewrite']['relation_id'] == \"P276\"]\n",
    "places_to_cities = [\n",
    "    (d['requested_rewrite']['subject'], d['requested_rewrite']['target_true'][\"str\"])\n",
    "    for d in located_in_city\n",
    "]\n",
    "\n",
    "places_to_cities[:4]"
   ]
  },
  {
   "cell_type": "code",
   "execution_count": 6,
   "metadata": {},
   "outputs": [
    {
     "data": {
      "text/plain": [
       "([' Eric is visiting 2011 Cannes Film Festival,  Michael is visiting 1985 Southeast Asian Games,  Ian is visiting Hubert H. Humphrey Metrodome. Eric is in Cannes'],\n",
       " ['Cannes'],\n",
       " ['Ian', 'Michael', 'Eric'],\n",
       " ['Hubert H. Humphrey Metrodome',\n",
       "  '2011 Cannes Film Festival',\n",
       "  '1985 Southeast Asian Games'])"
      ]
     },
     "execution_count": 6,
     "metadata": {},
     "output_type": "execute_result"
    }
   ],
   "source": [
    "import locality.utils.dataset_utils as dset_utils\n",
    "\n",
    "dset_utils.get_demonstrations(\n",
    "    subj_obj_mapping=places_to_cities,\n",
    "    num_options=3,\n",
    "    num_icl=1,\n",
    "    variable_binding_template=\" {} is visiting {}\",\n",
    "    query_template=\" {} is in {}\",\n",
    ")"
   ]
  },
  {
   "cell_type": "code",
   "execution_count": 7,
   "metadata": {},
   "outputs": [],
   "source": [
    "from locality.dataset import generate_synthetic_dataset"
   ]
  },
  {
   "cell_type": "code",
   "execution_count": 8,
   "metadata": {},
   "outputs": [],
   "source": [
    "synth_dataset = generate_synthetic_dataset(\n",
    "    relation_subj_obj_mapping=places_to_cities,\n",
    "    variable_binding_template=\" {} is visiting {}\",\n",
    "    query_template=\" {} is in {}\",\n",
    "    num_options=3,\n",
    "    num_icl=1,\n",
    "    batch_size=32\n",
    ")"
   ]
  },
  {
   "cell_type": "code",
   "execution_count": 9,
   "metadata": {},
   "outputs": [
    {
     "name": "stdout",
     "output_type": "stream",
     "text": [
      " Kayla is visiting Ciompi Revolt,  Patricia is visiting Hotel Green,  Chad is visiting Ben Yehuda Street bombings. Chad is in Jerusalem\n",
      " Charles is visiting USA Film Festival,  Bobby is visiting Royal Institute of Painters in Water Colours,  Carl is visiting ice cream cone. Carl is in\n",
      "Ireland\n"
     ]
    }
   ],
   "source": [
    "sample = synth_dataset[30]\n",
    "\n",
    "print(sample[0])\n",
    "print(sample[1])"
   ]
  },
  {
   "cell_type": "code",
   "execution_count": 10,
   "metadata": {},
   "outputs": [
    {
     "data": {
      "text/plain": [
       "'{\"query\": \" Vanessa is visiting Highland Light Infantry,  Shelley is visiting Livonian Crusade,  Michael is visiting Seattle Lesbian & Gay Film Festival. Vanessa is in\", \"answer\": \"Glasgow\"}'"
      ]
     },
     "execution_count": 10,
     "metadata": {},
     "output_type": "execute_result"
    }
   ],
   "source": [
    "synth_dataset.qa_samples[10].to_json()"
   ]
  },
  {
   "cell_type": "code",
   "execution_count": 11,
   "metadata": {},
   "outputs": [
    {
     "data": {
      "text/plain": [
       "'{\"few_shot_examples\": [\" Kayla is visiting Ciompi Revolt,  Patricia is visiting Hotel Green,  Chad is visiting Ben Yehuda Street bombings. Chad is in Jerusalem\"], \"qa_samples\": [{\"query\": \" John is visiting Convent of Las Descalzas Reales,  Maria is visiting 29 September 2008 western India bombings,  Gloria is visiting Fantafestival. John is in\", \"answer\": \"Madrid\"}, {\"query\": \" Andrew is visiting Preston Guild Hall,  Nicole is visiting Yaqui Uprising,  Philip is visiting Indie Memphis. Philip is in\", \"answer\": \"Memphis\"}, {\"query\": \" George is visiting Downton Abbey,  Karl is visiting Presidential Mansion,  Katherine is visiting 2000 Summer Paralympics. Katherine is in\", \"answer\": \"Sydney\"}, {\"query\": \" Walter is visiting Modernisme,  Raymond is visiting Belfast Film Festival,  Coy is visiting USA Film Festival. Raymond is in\", \"answer\": \"Belfast\"}, {\"query\": \" Twila is visiting Warsaw International Film Festival,  Donald is visiting Battle of Crug Mawr,  Tamar is visiting Second Italo-Ethiopian War. Tamar is in\", \"answer\": \"Ethiopia\"}, {\"query\": \" Jeanette is visiting Champaner-Pavagadh Archaeological Park,  Minnie is visiting Chicago Golden Gloves,  James is visiting Basilica Cistern. James is in\", \"answer\": \"Istanbul\"}, {\"query\": \" Ashley is visiting Basilica Cistern,  Ruby is visiting Croatian War of Independence,  Rosaline is visiting Warsaw Uprising. Ashley is in\", \"answer\": \"Istanbul\"}, {\"query\": \" Edith is visiting Nika riots,  Christine is visiting Ajanta Caves,  Leo is visiting Brighton Centre. Edith is in\", \"answer\": \"Constantinople\"}, {\"query\": \" Lorenzo is visiting Irish Museum of Modern Art,  Steve is visiting Cardiff Blitz,  Muriel is visiting Moscow Pride. Muriel is in\", \"answer\": \"Moscow\"}, {\"query\": \" Aaron is visiting 2002 Australian Open,  Sabrina is visiting Post-Soviet states,  Lu is visiting NatFilm Festival. Sabrina is in\", \"answer\": \"Ukraine\"}, {\"query\": \" Vanessa is visiting Highland Light Infantry,  Shelley is visiting Livonian Crusade,  Michael is visiting Seattle Lesbian & Gay Film Festival. Vanessa is in\", \"answer\": \"Glasgow\"}, {\"query\": \" David is visiting 2014 ICF Canoe Sprint World Championships,  Quincy is visiting 2004 Australian Open,  Danielle is visiting 64th Venice International Film Festival. David is in\", \"answer\": \"Moscow\"}, {\"query\": \" Anthony is visiting Mr Selfridge,  William is visiting 2005 Australian Open,  Wendell is visiting Dawson College shooting. Wendell is in\", \"answer\": \"Montreal\"}, {\"query\": \" Robert is visiting Seattle SuperSonics,  Lori is visiting Ptolemaic Baris,  Calvin is visiting Stockholm Pride. Calvin is in\", \"answer\": \"Stockholm\"}, {\"query\": \" Carlos is visiting Serpent Column,  Barbara is visiting Domlur,  Clara is visiting CB Estudiantes. Barbara is in\", \"answer\": \"Bangalore\"}, {\"query\": \" Riley is visiting Berlin Papyrus 6619,  Alfred is visiting The Leys School,  Angela is visiting 1985 Southeast Asian Games. Riley is in\", \"answer\": \"Berlin\"}, {\"query\": \" Scott is visiting PAX,  Martha is visiting Bombing of Darwin,  Rebecca is visiting Vietnam Film Festival. Rebecca is in\", \"answer\": \"Vietnam\"}, {\"query\": \" Lakenya is visiting Scottish independence referendum, 2014,  Henry is visiting 2004 Ukrainian presidential election,  Leah is visiting Operation Market Garden. Lakenya is in\", \"answer\": \"Scotland\"}, {\"query\": \" Wallace is visiting Theater Tuschinski,  Natasha is visiting Tunisian Revolution,  Consuelo is visiting Hellenic Film Academy Awards. Consuelo is in\", \"answer\": \"Athens\"}, {\"query\": \" Percy is visiting Battle of France,  Cynthia is visiting Ten Years\\' War,  Terri is visiting Custom House Tower. Percy is in\", \"answer\": \"Netherlands\"}, {\"query\": \" Patrice is visiting Hubert H. Humphrey Metrodome,  Thomas is visiting Hapoel Jerusalem B.C.,  Lorene is visiting Warsaw Uprising. Thomas is in\", \"answer\": \"Jerusalem\"}, {\"query\": \" Bradley is visiting Habitat II,  Grace is visiting Madrid Conference of 1991,  Corey is visiting Pride Toronto. Grace is in\", \"answer\": \"Madrid\"}, {\"query\": \" Albert is visiting Magere Brug,  Helen is visiting 2004 Ukrainian presidential election,  Tisha is visiting Russian Civil War. Helen is in\", \"answer\": \"Ukraine\"}, {\"query\": \" Aldo is visiting 2008 Kabul Serena Hotel attack,  Brandi is visiting 2007 Welsh Open,  Erik is visiting Magnapop. Erik is in\", \"answer\": \"Atlanta\"}, {\"query\": \" Antonio is visiting Royal Palace of Amsterdam,  Robin is visiting Open-air museum Skansen,  Roberto is visiting Santa Maria della Salute. Roberto is in\", \"answer\": \"Venice\"}, {\"query\": \" Leeann is visiting Hotel Green,  Anne is visiting 2014 ICF Canoe Sprint World Championships,  Sonia is visiting Holy Name Cathedral, Chicago. Leeann is in\", \"answer\": \"Pasadena\"}, {\"query\": \" Leslie is visiting Champaner-Pavagadh Archaeological Park,  Norman is visiting 2007 Australian Open,  Dominique is visiting Eyemouth disaster. Dominique is in\", \"answer\": \"Scotland\"}, {\"query\": \" Amos is visiting Chicanos Por La Causa,  Anna is visiting Massenet Festival,  Patti is visiting Operation Dingson. Anna is in\", \"answer\": \"France\"}, {\"query\": \" Loretta is visiting Chicago Golden Gloves,  Karen is visiting Norwich Market,  Waylon is visiting 2000 Summer Olympics. Karen is in\", \"answer\": \"Norwich\"}, {\"query\": \" Margaret is visiting Pazzi conspiracy,  Blanche is visiting Sicilian Expedition,  Cliff is visiting Hope and Anchor, Islington. Blanche is in\", \"answer\": \"Sicily\"}, {\"query\": \" Charles is visiting USA Film Festival,  Bobby is visiting Royal Institute of Painters in Water Colours,  Carl is visiting ice cream cone. Carl is in\", \"answer\": \"Ireland\"}, {\"query\": \" Justin is visiting Damascus International Film Festival,  Johnny is visiting Colorado River Indian Tribes,  Luis is visiting Mandaeism. Johnny is in\", \"answer\": \"California\"}]}'"
      ]
     },
     "execution_count": 11,
     "metadata": {},
     "output_type": "execute_result"
    }
   ],
   "source": [
    "synth_dataset.to_json()"
   ]
  },
  {
   "cell_type": "code",
   "execution_count": null,
   "metadata": {},
   "outputs": [],
   "source": []
  }
 ],
 "metadata": {
  "kernelspec": {
   "display_name": "Python 3",
   "language": "python",
   "name": "python3"
  },
  "language_info": {
   "codemirror_mode": {
    "name": "ipython",
    "version": 3
   },
   "file_extension": ".py",
   "mimetype": "text/x-python",
   "name": "python",
   "nbconvert_exporter": "python",
   "pygments_lexer": "ipython3",
   "version": "3.9.7"
  }
 },
 "nbformat": 4,
 "nbformat_minor": 2
}
