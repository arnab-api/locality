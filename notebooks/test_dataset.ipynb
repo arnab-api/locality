{
 "cells": [
  {
   "cell_type": "code",
   "execution_count": 1,
   "metadata": {},
   "outputs": [],
   "source": [
    "%load_ext autoreload\n",
    "%autoreload 2"
   ]
  },
  {
   "cell_type": "code",
   "execution_count": 2,
   "metadata": {},
   "outputs": [],
   "source": [
    "import os\n",
    "import sys\n",
    "sys.path.append(os.path.abspath(os.path.join('..')))\n",
    "\n",
    "import logging\n",
    "import locality.utils.logging_utils as logging_utils\n",
    "\n",
    "logger = logging.getLogger(__name__)\n",
    "\n",
    "logging.basicConfig(\n",
    "    level=logging.DEBUG,\n",
    "    format = logging_utils.DEFAULT_FORMAT,\n",
    "    datefmt=logging_utils.DEFAULT_DATEFMT,\n",
    "    stream=sys.stdout\n",
    ")\n"
   ]
  },
  {
   "cell_type": "code",
   "execution_count": 3,
   "metadata": {},
   "outputs": [
    {
     "name": "stdout",
     "output_type": "stream",
     "text": [
      "Loaded dataset with 21919 elements\n",
      "875\n"
     ]
    },
    {
     "data": {
      "text/plain": [
       "[('Autonomous University of Madrid', 'Spain'),\n",
       " ('Pochepsky District', 'Russia'),\n",
       " ('Kuala Langat', 'Malaysia'),\n",
       " ('Wanne-Eickel Central Station', 'Germany')]"
      ]
     },
     "execution_count": 3,
     "metadata": {},
     "output_type": "execute_result"
    }
   ],
   "source": [
    "from dsets.counterfact import CounterFactDataset\n",
    "\n",
    "counterfact = CounterFactDataset(data_dir=\"../counterfact\")\n",
    "\n",
    "located_in_city = [d for d in counterfact if d['requested_rewrite']['relation_id'] == \"P17\"]\n",
    "places_to_cities = [\n",
    "    (d['requested_rewrite']['subject'], d['requested_rewrite']['target_true'][\"str\"])\n",
    "    for d in located_in_city\n",
    "]\n",
    "print(len(places_to_cities))\n",
    "places_to_cities[:4]"
   ]
  },
  {
   "cell_type": "code",
   "execution_count": 4,
   "metadata": {},
   "outputs": [
    {
     "data": {
      "text/plain": [
       "([' Troy is visiting Peruvian Navy,  Mark is visiting Castleisland Desmonds GAA,  Elizabeth is visiting Bedourie. Troy is in Peru'],\n",
       " ['Peru'],\n",
       " ['Troy', 'Elizabeth', 'Mark'],\n",
       " ['Peruvian Navy', 'Bedourie', 'Castleisland Desmonds GAA'])"
      ]
     },
     "execution_count": 4,
     "metadata": {},
     "output_type": "execute_result"
    }
   ],
   "source": [
    "import locality.utils.dataset_utils as dset_utils\n",
    "\n",
    "dset_utils.get_demonstrations(\n",
    "    subj_obj_mapping=places_to_cities,\n",
    "    num_options=3,\n",
    "    num_icl=1,\n",
    "    variable_binding_template=\" {} is visiting {}\",\n",
    "    query_template=\" {} is in {}\",\n",
    ")"
   ]
  },
  {
   "cell_type": "code",
   "execution_count": 5,
   "metadata": {},
   "outputs": [],
   "source": [
    "from locality.dataset import generate_synthetic_dataset"
   ]
  },
  {
   "cell_type": "code",
   "execution_count": 6,
   "metadata": {},
   "outputs": [],
   "source": [
    "synth_dataset = generate_synthetic_dataset(\n",
    "    relation_subj_obj_mapping=places_to_cities,\n",
    "    variable_binding_template=\" {} is visiting {}\",\n",
    "    query_template=\" {} is in {}\",\n",
    "    num_options=3,\n",
    "    num_icl=5,\n",
    "    batch_size=32\n",
    ")"
   ]
  },
  {
   "cell_type": "code",
   "execution_count": 7,
   "metadata": {},
   "outputs": [
    {
     "name": "stdout",
     "output_type": "stream",
     "text": [
      " Deborah is visiting Allersberg,  Genevieve is visiting Kalvola,  Lorine is visiting CNH Industrial. Genevieve is in Finland\n",
      " Jimmy is visiting Papanasam,  Timothy is visiting Sardent,  Crystal is visiting Hotel Oloffson. Jimmy is in India\n",
      " Stacie is visiting Wanne-Eickel Central Station,  Maria is visiting Berar Province,  Aida is visiting Leiria. Maria is in India\n",
      " Alexander is visiting Steenwijk,  Susan is visiting Halton County, Ontario,  Lorenzo is visiting La Ribera Baixa. Lorenzo is in Spain\n",
      " Jeanette is visiting Kharga Oasis,  Barbara is visiting United Mine Workers,  Ava is visiting Pontigny Abbey. Barbara is in Canada\n",
      " Pamela is visiting Ponoy River,  Agustina is visiting Kretinga,  Charles is visiting Minamiarupusu. Pamela is in\n",
      "Russia\n"
     ]
    }
   ],
   "source": [
    "sample = synth_dataset[30]\n",
    "\n",
    "print(sample[0])\n",
    "print(sample[1])"
   ]
  },
  {
   "cell_type": "code",
   "execution_count": 8,
   "metadata": {},
   "outputs": [
    {
     "data": {
      "text/plain": [
       "'{\"query\": \" Casey is visiting Nishi-Matsuura District,  Clyde is visiting Kojur District,  Robert is visiting Suwayq. Casey is in\", \"answer\": \"Japan\"}'"
      ]
     },
     "execution_count": 8,
     "metadata": {},
     "output_type": "execute_result"
    }
   ],
   "source": [
    "synth_dataset.qa_samples[10].to_json()"
   ]
  },
  {
   "cell_type": "code",
   "execution_count": 9,
   "metadata": {},
   "outputs": [
    {
     "data": {
      "text/plain": [
       "'{\"few_shot_examples\": [\" Deborah is visiting Allersberg,  Genevieve is visiting Kalvola,  Lorine is visiting CNH Industrial. Genevieve is in Finland\", \" Jimmy is visiting Papanasam,  Timothy is visiting Sardent,  Crystal is visiting Hotel Oloffson. Jimmy is in India\", \" Stacie is visiting Wanne-Eickel Central Station,  Maria is visiting Berar Province,  Aida is visiting Leiria. Maria is in India\", \" Alexander is visiting Steenwijk,  Susan is visiting Halton County, Ontario,  Lorenzo is visiting La Ribera Baixa. Lorenzo is in Spain\", \" Jeanette is visiting Kharga Oasis,  Barbara is visiting United Mine Workers,  Ava is visiting Pontigny Abbey. Barbara is in Canada\"], \"qa_samples\": [{\"query\": \" Steve is visiting Kosi Zone,  Carrie is visiting Gjerpen,  Claude is visiting Eirodziesma. Steve is in\", \"answer\": \"Nepal\"}, {\"query\": \" David is visiting Medaram,  Linda is visiting Lindholm station,  James is visiting Aventine Hill. Linda is in\", \"answer\": \"Denmark\"}, {\"query\": \" Dallas is visiting Pannonhalma Archabbey,  Chad is visiting Kennedy Highway,  Jeremy is visiting Mewat. Dallas is in\", \"answer\": \"Hungary\"}, {\"query\": \" Modesto is visiting Thamshavn Line,  Lee is visiting Eerbeek,  Malinda is visiting Alberta Alliance Party. Malinda is in\", \"answer\": \"Canada\"}, {\"query\": \" Julie is visiting Borovsky District,  John is visiting Vernayaz,  Marsha is visiting Haut Atlas. Marsha is in\", \"answer\": \"Morocco\"}, {\"query\": \" Demetrius is visiting Australian Geographic,  Cynthia is visiting Waalhaven,  Ismael is visiting Ulundurpet. Ismael is in\", \"answer\": \"India\"}, {\"query\": \" Mary is visiting Federally Administered Tribal Areas,  Jason is visiting Canada Live,  Grace is visiting Montreal Centre. Mary is in\", \"answer\": \"Pakistan\"}, {\"query\": \" Elizabeth is visiting Buda,  Kathryn is visiting Novokuybyshevsk,  Ervin is visiting Bouygues Telecom. Elizabeth is in\", \"answer\": \"Hungary\"}, {\"query\": \" Beverly is visiting Foothills-Rocky View,  Kenneth is visiting ArcelorMittal Poland,  Helene is visiting Plougonven. Helene is in\", \"answer\": \"France\"}, {\"query\": \" Yesenia is visiting Dunnamaggin GAA,  Deidra is visiting Electoral district of Wantirna,  Virginia is visiting TROS. Virginia is in\", \"answer\": \"Netherlands\"}, {\"query\": \" Casey is visiting Nishi-Matsuura District,  Clyde is visiting Kojur District,  Robert is visiting Suwayq. Casey is in\", \"answer\": \"Japan\"}, {\"query\": \" Rebecca is visiting Chu Lai Base Area,  Richard is visiting Federal Palace of Switzerland,  Donald is visiting Bourg-la-Reine. Rebecca is in\", \"answer\": \"Vietnam\"}, {\"query\": \" Nilsa is visiting Speaker of the House of Representatives of the Philippines,  Antonio is visiting Ateneo de Madrid,  Shelly is visiting Guelma Province. Nilsa is in\", \"answer\": \"Philippines\"}, {\"query\": \" Roy is visiting Maison du Peuple,  Leslie is visiting Garbeta,  Lauren is visiting Moi International Sports Centre. Leslie is in\", \"answer\": \"India\"}, {\"query\": \" Theresa is visiting Ogrodzieniec,  Keith is visiting Kings Domain,  Reginald is visiting Pilis Mountains. Keith is in\", \"answer\": \"Australia\"}, {\"query\": \" Scott is visiting Santo Spirito in Sassia,  Mitzi is visiting Shoranur,  Michelle is visiting Kaniv Reservoir. Scott is in\", \"answer\": \"Italy\"}, {\"query\": \" Patricia is visiting Chol Kiri District,  Jennifer is visiting Hohenlohe-Langenburg,  Rita is visiting Queen Charlotte Mountains. Patricia is in\", \"answer\": \"Cambodia\"}, {\"query\": \" Troy is visiting Ponoy River,  Anthony is visiting Cultural Center of the Philippines,  Laura is visiting Tudeshk Rural District. Troy is in\", \"answer\": \"Russia\"}, {\"query\": \" Annie is visiting Bilbao,  Edwina is visiting Isla Grande de Tierra del Fuego,  Wayne is visiting Canada Live. Wayne is in\", \"answer\": \"Canada\"}, {\"query\": \" Kimberly is visiting Singarapettai,  Sarah is visiting Lutvann,  Frank is visiting ERT World. Kimberly is in\", \"answer\": \"India\"}, {\"query\": \" Constance is visiting Gavrilovo-Posadsky District,  Edwin is visiting Bouygues Telecom,  Florine is visiting Carpathian Mountains. Florine is in\", \"answer\": \"Austria\"}, {\"query\": \" Daphne is visiting Fluminense F.C.,  Charlotte is visiting Cairo American College,  Sandra is visiting Lerik District. Daphne is in\", \"answer\": \"Brazil\"}, {\"query\": \" Dan is visiting Skole Raion,  Helen is visiting Turaida,  Moses is visiting Thiruvattar. Moses is in\", \"answer\": \"India\"}, {\"query\": \" Beatrice is visiting Holycross-Ballycahill GAA,  Sonya is visiting Zulia,  Jordan is visiting Minamishitara District, Aichi. Sonya is in\", \"answer\": \"Venezuela\"}, {\"query\": \" Joel is visiting Oder-Spree District,  Melissa is visiting Morshi,  Marshall is visiting Maya River. Joel is in\", \"answer\": \"Germany\"}, {\"query\": \" Kylee is visiting Mudgee,  Tyler is visiting Tinapa Resort,  Laurie is visiting Adare Manor. Laurie is in\", \"answer\": \"Ireland\"}, {\"query\": \" Jean is visiting Mosque of Uqba,  Virgie is visiting Vardasht Rural District,  Jona is visiting Persegres Gresik United. Jona is in\", \"answer\": \"Indonesia\"}, {\"query\": \" Roland is visiting Adliswil,  Lloyd is visiting Albertis Castle,  Verna is visiting Guatemalan Revolution. Verna is in\", \"answer\": \"Guatemala\"}, {\"query\": \" Terry is visiting Shakhenat Rural District,  Robyn is visiting Marugame,  Antoinette is visiting Pontecorvo. Robyn is in\", \"answer\": \"Japan\"}, {\"query\": \" Christopher is visiting European route E25,  Sharon is visiting Sydney Peace Prize,  Howard is visiting Papantla. Sharon is in\", \"answer\": \"Australia\"}, {\"query\": \" Pamela is visiting Ponoy River,  Agustina is visiting Kretinga,  Charles is visiting Minamiarupusu. Pamela is in\", \"answer\": \"Russia\"}, {\"query\": \" Luz is visiting Oseberg oil field,  Annette is visiting Little Stirrup Cay,  Vernice is visiting Manila Bay. Annette is in\", \"answer\": \"Bahamas\"}]}'"
      ]
     },
     "execution_count": 9,
     "metadata": {},
     "output_type": "execute_result"
    }
   ],
   "source": [
    "synth_dataset.to_json()"
   ]
  },
  {
   "cell_type": "code",
   "execution_count": 10,
   "metadata": {},
   "outputs": [
    {
     "data": {
      "text/plain": [
       "[('Autonomous University of Madrid', 'Spain'),\n",
       " ('Pochepsky District', 'Russia'),\n",
       " ('Kuala Langat', 'Malaysia'),\n",
       " ('Wanne-Eickel Central Station', 'Germany')]"
      ]
     },
     "execution_count": 10,
     "metadata": {},
     "output_type": "execute_result"
    }
   ],
   "source": [
    "places_to_cities[:4]"
   ]
  },
  {
   "cell_type": "code",
   "execution_count": 11,
   "metadata": {},
   "outputs": [
    {
     "name": "stdout",
     "output_type": "stream",
     "text": [
      "2023-11-20 17:26:07 urllib3.connectionpool DEBUG    Starting new HTTPS connection (1): huggingface.co:443\n"
     ]
    },
    {
     "name": "stdout",
     "output_type": "stream",
     "text": [
      "2023-11-20 17:26:07 urllib3.connectionpool DEBUG    https://huggingface.co:443 \"HEAD /meta-llama/Llama-2-7b-hf/resolve/main/config.json HTTP/1.1\" 200 0\n"
     ]
    },
    {
     "data": {
      "application/vnd.jupyter.widget-view+json": {
       "model_id": "7aa345f14fb545cf826bbaa122a40e3f",
       "version_major": 2,
       "version_minor": 0
      },
      "text/plain": [
       "Loading checkpoint shards:   0%|          | 0/2 [00:00<?, ?it/s]"
      ]
     },
     "metadata": {},
     "output_type": "display_data"
    },
    {
     "name": "stdout",
     "output_type": "stream",
     "text": [
      "2023-11-20 17:26:08 urllib3.connectionpool DEBUG    https://huggingface.co:443 \"HEAD /meta-llama/Llama-2-7b-hf/resolve/main/generation_config.json HTTP/1.1\" 200 0\n",
      "2023-11-20 17:26:10 urllib3.connectionpool DEBUG    https://huggingface.co:443 \"HEAD /meta-llama/Llama-2-7b-hf/resolve/main/tokenizer_config.json HTTP/1.1\" 200 0\n",
      "loaded model <meta-llama/Llama-2-7b-hf> | size: 12916.516 MB\n"
     ]
    }
   ],
   "source": [
    "from locality.models import ModelandTokenizer\n",
    "\n",
    "# MODEL_PATH = \"EleutherAI/gpt-j-6B\"\n",
    "MODEL_PATH = \"meta-llama/Llama-2-7b-hf\"\n",
    "# MODEL_PATH = \"mistralai/Mistral-7B-v0.1\"\n",
    "\n",
    "mt = ModelandTokenizer(model_path = MODEL_PATH)"
   ]
  },
  {
   "cell_type": "code",
   "execution_count": 18,
   "metadata": {},
   "outputs": [
    {
     "name": "stdout",
     "output_type": "stream",
     "text": [
      "2023-11-20 17:29:12 locality.functional DEBUG    filtering with prompt ` {} is located in the country of`\n",
      "2023-11-20 17:29:12 locality.functional DEBUG    Autonomous University of Madrid -> answer='Spain' | predicted = 'Spain'(0.9682959318161011) ==> (✓)\n",
      "2023-11-20 17:29:12 locality.functional DEBUG    Pochepsky District -> answer='Russia' | predicted = 'Russia'(0.41325631737709045) ==> (✓)\n",
      "2023-11-20 17:29:12 locality.functional DEBUG    Kuala Langat -> answer='Malaysia' | predicted = 'Malays'(0.9393529891967773) ==> (✓)\n",
      "2023-11-20 17:29:12 locality.functional DEBUG    Wanne-Eickel Central Station -> answer='Germany' | predicted = 'Germany'(0.9368625283241272) ==> (✓)\n",
      "2023-11-20 17:29:12 locality.functional DEBUG    Hohenlohe-Langenburg -> answer='Germany' | predicted = 'Germany'(0.889183521270752) ==> (✓)\n",
      "2023-11-20 17:29:12 locality.functional DEBUG    Bastille -> answer='France' | predicted = 'France'(0.702483057975769) ==> (✓)\n",
      "2023-11-20 17:29:12 locality.functional DEBUG    Shablykinsky District -> answer='Russia' | predicted = 'Russia'(0.3501109778881073) ==> (✓)\n",
      "2023-11-20 17:29:12 locality.functional DEBUG    Manila Light Rail Transit System -> answer='Philippines' | predicted = 'Philippines'(0.8960710167884827) ==> (✓)\n",
      "2023-11-20 17:29:12 locality.functional DEBUG    Valdemarsvik -> answer='Sweden' | predicted = 'Sweden'(0.344608336687088) ==> (✓)\n",
      "2023-11-20 17:29:12 locality.functional DEBUG    Ozumba -> answer='Mexico' | predicted = 'Niger'(0.22859449684619904) ==> (✗)\n",
      "2023-11-20 17:29:12 locality.functional DEBUG    Piper Verlag -> answer='Germany' | predicted = 'Germany'(0.5008541345596313) ==> (✓)\n",
      "2023-11-20 17:29:12 locality.functional DEBUG    Attingal -> answer='India' | predicted = 'India'(0.927435040473938) ==> (✓)\n",
      "2023-11-20 17:29:12 locality.functional DEBUG    Georgians -> answer='Azerbaijan' | predicted = 'Georgia'(0.6322078704833984) ==> (✗)\n",
      "2023-11-20 17:29:12 locality.functional DEBUG    Nizampatnam -> answer='India' | predicted = 'India'(0.9038288593292236) ==> (✓)\n",
      "2023-11-20 17:29:12 locality.functional DEBUG    Tehri Garhwal district -> answer='India' | predicted = 'India'(0.9015491008758545) ==> (✓)\n",
      "2023-11-20 17:29:12 locality.functional DEBUG    Eirodziesma -> answer='Latvia' | predicted = 'Lat'(0.43872174620628357) ==> (✓)\n",
      "2023-11-20 17:29:12 locality.functional DEBUG    Olot -> answer='Spain' | predicted = 'Spain'(0.8179041147232056) ==> (✓)\n",
      "2023-11-20 17:29:12 locality.functional DEBUG    Sumulong Highway -> answer='Philippines' | predicted = 'Philippines'(0.5597495436668396) ==> (✓)\n",
      "2023-11-20 17:29:12 locality.functional DEBUG    Darmstadt -> answer='Germany' | predicted = 'Germany'(0.9299799799919128) ==> (✓)\n",
      "2023-11-20 17:29:12 locality.functional DEBUG    Adliswil -> answer='Switzerland' | predicted = 'Switzerland'(0.8622344136238098) ==> (✓)\n",
      "2023-11-20 17:29:12 locality.functional DEBUG    Junnar -> answer='India' | predicted = 'India'(0.8793201446533203) ==> (✓)\n",
      "2023-11-20 17:29:12 locality.functional DEBUG    Ba F.C. -> answer='Fiji' | predicted = 'China'(0.3126457929611206) ==> (✗)\n",
      "2023-11-20 17:29:12 locality.functional DEBUG    Kandiaro Taluka -> answer='Pakistan' | predicted = 'India'(0.4931526184082031) ==> (✗)\n",
      "2023-11-20 17:29:12 locality.functional DEBUG    Yoro -> answer='Honduras' | predicted = 'Japan'(0.37271031737327576) ==> (✗)\n",
      "2023-11-20 17:29:12 locality.functional DEBUG    Queen Charlotte Mountains -> answer='Canada' | predicted = 'New'(0.31924566626548767) ==> (✗)\n"
     ]
    }
   ],
   "source": [
    "from locality.functional import make_icl_prompt, filter_samples_by_model_knowledge\n",
    "\n",
    "known_samples = filter_samples_by_model_knowledge(\n",
    "    mt, \n",
    "    subj_obj_mapping=places_to_cities[:25],\n",
    "    prompt_template=\" {} is located in the country of\",\n",
    ")"
   ]
  },
  {
   "cell_type": "code",
   "execution_count": 19,
   "metadata": {},
   "outputs": [
    {
     "data": {
      "text/plain": [
       "[('Autonomous University of Madrid', 'Spain'),\n",
       " ('Pochepsky District', 'Russia'),\n",
       " ('Kuala Langat', 'Malaysia'),\n",
       " ('Wanne-Eickel Central Station', 'Germany'),\n",
       " ('Hohenlohe-Langenburg', 'Germany'),\n",
       " ('Bastille', 'France'),\n",
       " ('Shablykinsky District', 'Russia'),\n",
       " ('Manila Light Rail Transit System', 'Philippines'),\n",
       " ('Valdemarsvik', 'Sweden'),\n",
       " ('Piper Verlag', 'Germany'),\n",
       " ('Attingal', 'India'),\n",
       " ('Nizampatnam', 'India'),\n",
       " ('Tehri Garhwal district', 'India'),\n",
       " ('Eirodziesma', 'Latvia'),\n",
       " ('Olot', 'Spain'),\n",
       " ('Sumulong Highway', 'Philippines'),\n",
       " ('Darmstadt', 'Germany'),\n",
       " ('Adliswil', 'Switzerland'),\n",
       " ('Junnar', 'India')]"
      ]
     },
     "execution_count": 19,
     "metadata": {},
     "output_type": "execute_result"
    }
   ],
   "source": [
    "known_samples"
   ]
  },
  {
   "cell_type": "code",
   "execution_count": 21,
   "metadata": {},
   "outputs": [
    {
     "name": "stdout",
     "output_type": "stream",
     "text": [
      " Deborah is visiting Allersberg,  Genevieve is visiting Kalvola,  Lorine is visiting CNH Industrial. Genevieve is in Finland\n",
      " Jimmy is visiting Papanasam,  Timothy is visiting Sardent,  Crystal is visiting Hotel Oloffson. Jimmy is in India\n",
      " Stacie is visiting Wanne-Eickel Central Station,  Maria is visiting Berar Province,  Aida is visiting Leiria. Maria is in India\n",
      " Alexander is visiting Steenwijk,  Susan is visiting Halton County, Ontario,  Lorenzo is visiting La Ribera Baixa. Lorenzo is in Spain\n",
      " Jeanette is visiting Kharga Oasis,  Barbara is visiting United Mine Workers,  Ava is visiting Pontigny Abbey. Barbara is in Canada\n",
      " Steve is visiting Kosi Zone,  Carrie is visiting Gjerpen,  Claude is visiting Eirodziesma. Steve is in\n",
      "Nepal\n",
      "\n",
      " Deborah is visiting Allersberg,  Genevieve is visiting Kalvola,  Lorine is visiting CNH Industrial. Genevieve is in Finland\n",
      " Jimmy is visiting Papanasam,  Timothy is visiting Sardent,  Crystal is visiting Hotel Oloffson. Jimmy is in India\n",
      " Stacie is visiting Wanne-Eickel Central Station,  Maria is visiting Berar Province,  Aida is visiting Leiria. Maria is in India\n",
      " Alexander is visiting Steenwijk,  Susan is visiting Halton County, Ontario,  Lorenzo is visiting La Ribera Baixa. Lorenzo is in Spain\n",
      " Jeanette is visiting Kharga Oasis,  Barbara is visiting United Mine Workers,  Ava is visiting Pontigny Abbey. Barbara is in Canada\n",
      " David is visiting Medaram,  Linda is visiting Lindholm station,  James is visiting Aventine Hill. Linda is in\n",
      "Denmark\n",
      "\n",
      " Deborah is visiting Allersberg,  Genevieve is visiting Kalvola,  Lorine is visiting CNH Industrial. Genevieve is in Finland\n",
      " Jimmy is visiting Papanasam,  Timothy is visiting Sardent,  Crystal is visiting Hotel Oloffson. Jimmy is in India\n",
      " Stacie is visiting Wanne-Eickel Central Station,  Maria is visiting Berar Province,  Aida is visiting Leiria. Maria is in India\n",
      " Alexander is visiting Steenwijk,  Susan is visiting Halton County, Ontario,  Lorenzo is visiting La Ribera Baixa. Lorenzo is in Spain\n",
      " Jeanette is visiting Kharga Oasis,  Barbara is visiting United Mine Workers,  Ava is visiting Pontigny Abbey. Barbara is in Canada\n",
      " Dallas is visiting Pannonhalma Archabbey,  Chad is visiting Kennedy Highway,  Jeremy is visiting Mewat. Dallas is in\n",
      "Hungary\n",
      "\n"
     ]
    }
   ],
   "source": [
    "limit = 3\n",
    "\n",
    "for query, answer in synth_dataset:\n",
    "    print(query)\n",
    "    print(answer)\n",
    "    print()\n",
    "    limit -= 1\n",
    "    if limit == 0:\n",
    "        break"
   ]
  },
  {
   "cell_type": "code",
   "execution_count": 22,
   "metadata": {},
   "outputs": [
    {
     "data": {
      "text/plain": [
       "{'a': 10}"
      ]
     },
     "execution_count": 22,
     "metadata": {},
     "output_type": "execute_result"
    }
   ],
   "source": [
    "a = 10\n",
    "\n",
    "dict(a = 10)"
   ]
  },
  {
   "cell_type": "code",
   "execution_count": null,
   "metadata": {},
   "outputs": [],
   "source": []
  }
 ],
 "metadata": {
  "kernelspec": {
   "display_name": "Python 3",
   "language": "python",
   "name": "python3"
  },
  "language_info": {
   "codemirror_mode": {
    "name": "ipython",
    "version": 3
   },
   "file_extension": ".py",
   "mimetype": "text/x-python",
   "name": "python",
   "nbconvert_exporter": "python",
   "pygments_lexer": "ipython3",
   "version": "3.9.7"
  }
 },
 "nbformat": 4,
 "nbformat_minor": 2
}
