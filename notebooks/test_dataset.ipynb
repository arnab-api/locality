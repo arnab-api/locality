{
 "cells": [
  {
   "cell_type": "code",
   "execution_count": 1,
   "metadata": {},
   "outputs": [],
   "source": [
    "%load_ext autoreload\n",
    "%autoreload 2"
   ]
  },
  {
   "cell_type": "code",
   "execution_count": 36,
   "metadata": {},
   "outputs": [],
   "source": [
    "import os\n",
    "import sys\n",
    "sys.path.append(os.path.abspath(os.path.join('..')))\n",
    "\n",
    "import logging\n",
    "import locality.utils.logging_utils as logging_utils\n",
    "\n",
    "logger = logging.getLogger(__name__)\n",
    "\n",
    "logging.basicConfig(\n",
    "    level=logging.DEBUG,\n",
    "    format = logging_utils.DEFAULT_FORMAT,\n",
    "    datefmt=logging_utils.DEFAULT_DATEFMT,\n",
    "    stream=sys.stdout\n",
    ")\n"
   ]
  },
  {
   "cell_type": "code",
   "execution_count": 37,
   "metadata": {},
   "outputs": [
    {
     "name": "stdout",
     "output_type": "stream",
     "text": [
      "Loaded dataset with 21919 elements\n",
      "875\n"
     ]
    },
    {
     "data": {
      "text/plain": [
       "[('Autonomous University of Madrid', 'Spain'),\n",
       " ('Pochepsky District', 'Russia'),\n",
       " ('Kuala Langat', 'Malaysia'),\n",
       " ('Wanne-Eickel Central Station', 'Germany')]"
      ]
     },
     "execution_count": 37,
     "metadata": {},
     "output_type": "execute_result"
    }
   ],
   "source": [
    "from dsets.counterfact import CounterFactDataset\n",
    "\n",
    "counterfact = CounterFactDataset(data_dir=\"../counterfact\")\n",
    "\n",
    "located_in_city = [d for d in counterfact if d['requested_rewrite']['relation_id'] == \"P17\"]\n",
    "places_to_cities = [\n",
    "    (d['requested_rewrite']['subject'], d['requested_rewrite']['target_true'][\"str\"])\n",
    "    for d in located_in_city\n",
    "]\n",
    "print(len(places_to_cities))\n",
    "places_to_cities[:4]"
   ]
  },
  {
   "cell_type": "code",
   "execution_count": 38,
   "metadata": {},
   "outputs": [
    {
     "data": {
      "text/plain": [
       "([' Pamela is visiting Sydney Peace Prize,  Helen is visiting Plougonven,  Dorothy is visiting Western Bug. Pamela is in Australia'],\n",
       " ['Australia'],\n",
       " ['Sydney Peace Prize'],\n",
       " ['Pamela'],\n",
       " ['Plougonven', 'Sydney Peace Prize', 'Western Bug'],\n",
       " ['Helen', 'Dorothy', 'Pamela'])"
      ]
     },
     "execution_count": 38,
     "metadata": {},
     "output_type": "execute_result"
    }
   ],
   "source": [
    "import locality.utils.dataset_utils as dset_utils\n",
    "\n",
    "dset_utils.get_demonstrations(\n",
    "    subj_obj_mapping=places_to_cities,\n",
    "    num_options=3,\n",
    "    num_icl=1,\n",
    "    variable_binding_template=\" {} is visiting {}\",\n",
    "    query_template=\" {} is in {}\",\n",
    ")"
   ]
  },
  {
   "cell_type": "code",
   "execution_count": 39,
   "metadata": {},
   "outputs": [],
   "source": [
    "from locality.dataset import generate_synthetic_dataset"
   ]
  },
  {
   "cell_type": "code",
   "execution_count": 40,
   "metadata": {},
   "outputs": [],
   "source": [
    "synth_dataset = generate_synthetic_dataset(\n",
    "    relation_subj_obj_mapping=places_to_cities,\n",
    "    variable_binding_template=\" {} is visiting {}\",\n",
    "    query_template=\" {} is in {}\",\n",
    "    num_options=3,\n",
    "    num_icl=5,\n",
    "    batch_size=32\n",
    ")"
   ]
  },
  {
   "cell_type": "code",
   "execution_count": 41,
   "metadata": {},
   "outputs": [
    {
     "name": "stdout",
     "output_type": "stream",
     "text": [
      " Lacey is visiting L'Escala,  Corinna is visiting Le Puy Foot 43 Auvergne,  Florence is visiting Rottendorf. Florence is in Germany\n",
      " Thomas is visiting Fluminense F.C.,  Mervin is visiting Mezhdurechensky District,  Manuela is visiting Birendranagar. Mervin is in Russia\n",
      " Marion is visiting Wentworth Valley,  Jacqueline is visiting Pampilhosa da Serra,  Leatrice is visiting Frosinone. Leatrice is in Italy\n",
      " Lynne is visiting Tovarnik,  Carole is visiting Buda,  Lizabeth is visiting Buchan. Lynne is in Croatia\n",
      " Marguerite is visiting Media Development Authority,  Cynthia is visiting Gmina Pokrzywnica,  Jason is visiting Eirodziesma. Marguerite is in Singapore\n",
      " Elizabeth is visiting Fryderyk Chopin University of Music,  Alex is visiting Mewat,  Rachel is visiting County Leitrim. Alex is in\n",
      "India\n"
     ]
    }
   ],
   "source": [
    "sample = synth_dataset[30]\n",
    "\n",
    "print(sample[0])\n",
    "print(sample[1])"
   ]
  },
  {
   "cell_type": "code",
   "execution_count": 42,
   "metadata": {},
   "outputs": [
    {
     "data": {
      "text/plain": [
       "'{\"query\": \" Denise is visiting Presbyterian High School,  Kelsi is visiting Loppa,  Latoya is visiting Soalala District. Denise is in\", \"subject\": \"Presbyterian High School\", \"variable\": \"Denise\", \"answer\": \"Singapore\"}'"
      ]
     },
     "execution_count": 42,
     "metadata": {},
     "output_type": "execute_result"
    }
   ],
   "source": [
    "synth_dataset.qa_samples[10].to_json()"
   ]
  },
  {
   "cell_type": "code",
   "execution_count": 43,
   "metadata": {},
   "outputs": [
    {
     "data": {
      "text/plain": [
       "'{\"few_shot_examples\": [\" Lacey is visiting L\\'Escala,  Corinna is visiting Le Puy Foot 43 Auvergne,  Florence is visiting Rottendorf. Florence is in Germany\", \" Thomas is visiting Fluminense F.C.,  Mervin is visiting Mezhdurechensky District,  Manuela is visiting Birendranagar. Mervin is in Russia\", \" Marion is visiting Wentworth Valley,  Jacqueline is visiting Pampilhosa da Serra,  Leatrice is visiting Frosinone. Leatrice is in Italy\", \" Lynne is visiting Tovarnik,  Carole is visiting Buda,  Lizabeth is visiting Buchan. Lynne is in Croatia\", \" Marguerite is visiting Media Development Authority,  Cynthia is visiting Gmina Pokrzywnica,  Jason is visiting Eirodziesma. Marguerite is in Singapore\"], \"qa_samples\": [{\"query\": \" Janie is visiting Shakhenat Rural District,  Linda is visiting Persegres Gresik United,  Vickie is visiting Subarnapur district. Linda is in\", \"subject\": \"Persegres Gresik United\", \"variable\": \"Linda\", \"answer\": \"Indonesia\"}, {\"query\": \" Charlene is visiting Foothills-Rocky View,  Dorla is visiting Theni district,  Lakenya is visiting Waurn Ponds. Dorla is in\", \"subject\": \"Theni district\", \"variable\": \"Dorla\", \"answer\": \"India\"}, {\"query\": \" Helen is visiting Saint-Louis-de-Kent, New Brunswick,  Charles is visiting Minu District,  Edgar is visiting CD Eldense. Edgar is in\", \"subject\": \"CD Eldense\", \"variable\": \"Edgar\", \"answer\": \"Spain\"}, {\"query\": \" Randolph is visiting Little Stirrup Cay,  Esther is visiting AA Drink-leontien.nl,  Jeanette is visiting Sabburah Subdistrict. Esther is in\", \"subject\": \"AA Drink-leontien.nl\", \"variable\": \"Esther\", \"answer\": \"Netherlands\"}, {\"query\": \" Brittany is visiting Lucentum,  Robert is visiting Kharga Oasis,  Maria is visiting Moi International Sports Centre. Robert is in\", \"subject\": \"Kharga Oasis\", \"variable\": \"Robert\", \"answer\": \"Egypt\"}, {\"query\": \" Loretta is visiting South East Cape,  Verona is visiting Cuban convertible peso,  Lamar is visiting Idalium. Verona is in\", \"subject\": \"Cuban convertible peso\", \"variable\": \"Verona\", \"answer\": \"Cuba\"}, {\"query\": \" James is visiting AH3,  Cassie is visiting Bangarapet,  Evelyn is visiting Buchans. Cassie is in\", \"subject\": \"Bangarapet\", \"variable\": \"Cassie\", \"answer\": \"India\"}, {\"query\": \" Adam is visiting Kings Domain,  Eugene is visiting Kondotty,  Dale is visiting Miramichi Centre. Adam is in\", \"subject\": \"Kings Domain\", \"variable\": \"Adam\", \"answer\": \"Australia\"}, {\"query\": \" Jonathan is visiting Hohenlohe,  Betty is visiting Sebatik Island,  Sally is visiting Ba F.C.. Sally is in\", \"subject\": \"Ba F.C.\", \"variable\": \"Sally\", \"answer\": \"Fiji\"}, {\"query\": \" Dollie is visiting Yamato Museum,  Luis is visiting Baron de Hirsch Cemetery, Halifax,  Daryl is visiting Hitachinaka. Daryl is in\", \"subject\": \"Hitachinaka\", \"variable\": \"Daryl\", \"answer\": \"Japan\"}, {\"query\": \" Denise is visiting Presbyterian High School,  Kelsi is visiting Loppa,  Latoya is visiting Soalala District. Denise is in\", \"subject\": \"Presbyterian High School\", \"variable\": \"Denise\", \"answer\": \"Singapore\"}, {\"query\": \" Sarah is visiting regiopolis,  Moses is visiting Isa Air Base,  Cheryl is visiting Bourg-la-Reine. Sarah is in\", \"subject\": \"regiopolis\", \"variable\": \"Sarah\", \"answer\": \"Germany\"}, {\"query\": \" Ronald is visiting Bilecik Province,  Jose is visiting Rottumerplaat,  Frank is visiting Spanish Armed Forces. Jose is in\", \"subject\": \"Rottumerplaat\", \"variable\": \"Jose\", \"answer\": \"Netherlands\"}, {\"query\": \" Donnie is visiting Party of National Unity,  Neil is visiting community development block in India,  John is visiting Bad Wildungen. John is in\", \"subject\": \"Bad Wildungen\", \"variable\": \"John\", \"answer\": \"Germany\"}, {\"query\": \" Breana is visiting Addanki mandal,  Scarlett is visiting Ufa,  Marisa is visiting Halton County, Ontario. Breana is in\", \"subject\": \"Addanki mandal\", \"variable\": \"Breana\", \"answer\": \"India\"}, {\"query\": \" Stacey is visiting Orikhiv,  Yvonne is visiting Wazzin,  Irving is visiting Breege. Stacey is in\", \"subject\": \"Orikhiv\", \"variable\": \"Stacey\", \"answer\": \"Ukraine\"}, {\"query\": \" Sue is visiting Ulundurpet,  Matthew is visiting Amarkantak,  Lillian is visiting Inami, Toyama. Sue is in\", \"subject\": \"Ulundurpet\", \"variable\": \"Sue\", \"answer\": \"India\"}, {\"query\": \" Emma is visiting Hultsfred Municipality,  Andrew is visiting Gmina Morawica,  Nancy is visiting Imperia. Emma is in\", \"subject\": \"Hultsfred Municipality\", \"variable\": \"Emma\", \"answer\": \"Sweden\"}, {\"query\": \" Anita is visiting La Mauricie National Park,  Joshua is visiting Ponoy River,  Clayton is visiting VR warehouses. Joshua is in\", \"subject\": \"Ponoy River\", \"variable\": \"Joshua\", \"answer\": \"Russia\"}, {\"query\": \" Michael is visiting TUIfly Nordic,  Sean is visiting University of Zaragoza,  Antonio is visiting Roman Catholic Archdiocese of Lucca. Antonio is in\", \"subject\": \"Roman Catholic Archdiocese of Lucca\", \"variable\": \"Antonio\", \"answer\": \"Italy\"}, {\"query\": \" Byron is visiting Junnar,  Thelma is visiting Bispebjerg,  Debra is visiting Abu Ghosh. Debra is in\", \"subject\": \"Abu Ghosh\", \"variable\": \"Debra\", \"answer\": \"Israel\"}, {\"query\": \" Clare is visiting Laslea,  Margaret is visiting Kapar,  Helga is visiting Waurn Ponds. Margaret is in\", \"subject\": \"Kapar\", \"variable\": \"Margaret\", \"answer\": \"Malaysia\"}, {\"query\": \" Brian is visiting Valvasone,  Elmer is visiting Dundalk,  Allene is visiting Carpathian Mountains. Brian is in\", \"subject\": \"Valvasone\", \"variable\": \"Brian\", \"answer\": \"Italy\"}, {\"query\": \" Danny is visiting Sarnia,  Willard is visiting Hilir Perak,  Cynthia is visiting Rio Quente. Willard is in\", \"subject\": \"Hilir Perak\", \"variable\": \"Willard\", \"answer\": \"Malaysia\"}, {\"query\": \" Kandis is visiting Dunnamaggin GAA,  Roberto is visiting Le Fuilet,  Barbara is visiting Jemappes. Kandis is in\", \"subject\": \"Dunnamaggin GAA\", \"variable\": \"Kandis\", \"answer\": \"Ireland\"}, {\"query\": \" Lisa is visiting Haut Atlas,  Susan is visiting Rudrur,  Ming is visiting Fairfield West. Ming is in\", \"subject\": \"Fairfield West\", \"variable\": \"Ming\", \"answer\": \"Australia\"}, {\"query\": \" Agnes is visiting Casiquiare canal,  Beverly is visiting Tell Rifaat,  Larry is visiting Piove di Sacco. Agnes is in\", \"subject\": \"Casiquiare canal\", \"variable\": \"Agnes\", \"answer\": \"Venezuela\"}, {\"query\": \" William is visiting Illertissen,  Carl is visiting Ufa,  Amberly is visiting Southern Savonia. Carl is in\", \"subject\": \"Ufa\", \"variable\": \"Carl\", \"answer\": \"Russia\"}, {\"query\": \" Karl is visiting Alcanena Municipality,  Janet is visiting Sena Medal,  Billie is visiting Wakefield Park. Karl is in\", \"subject\": \"Alcanena Municipality\", \"variable\": \"Karl\", \"answer\": \"Portugal\"}, {\"query\": \" Elena is visiting Kazinga Channel,  Velvet is visiting Shablykinsky District,  Pamela is visiting Palupera Rural Municipality. Pamela is in\", \"subject\": \"Palupera Rural Municipality\", \"variable\": \"Pamela\", \"answer\": \"Estonia\"}, {\"query\": \" Elizabeth is visiting Fryderyk Chopin University of Music,  Alex is visiting Mewat,  Rachel is visiting County Leitrim. Alex is in\", \"subject\": \"Mewat\", \"variable\": \"Alex\", \"answer\": \"India\"}, {\"query\": \" Eric is visiting Albanian Land Force,  Lauren is visiting Kayunga District,  Reyna is visiting Peruvian Navy. Lauren is in\", \"subject\": \"Kayunga District\", \"variable\": \"Lauren\", \"answer\": \"Uganda\"}]}'"
      ]
     },
     "execution_count": 43,
     "metadata": {},
     "output_type": "execute_result"
    }
   ],
   "source": [
    "synth_dataset.to_json()"
   ]
  },
  {
   "cell_type": "code",
   "execution_count": 44,
   "metadata": {},
   "outputs": [
    {
     "data": {
      "text/plain": [
       "[('Autonomous University of Madrid', 'Spain'),\n",
       " ('Pochepsky District', 'Russia'),\n",
       " ('Kuala Langat', 'Malaysia'),\n",
       " ('Wanne-Eickel Central Station', 'Germany')]"
      ]
     },
     "execution_count": 44,
     "metadata": {},
     "output_type": "execute_result"
    }
   ],
   "source": [
    "places_to_cities[:4]"
   ]
  },
  {
   "cell_type": "code",
   "execution_count": 45,
   "metadata": {},
   "outputs": [
    {
     "name": "stdout",
     "output_type": "stream",
     "text": [
      "2023-11-21 15:08:42 urllib3.connectionpool DEBUG    Resetting dropped connection: huggingface.co\n"
     ]
    },
    {
     "name": "stdout",
     "output_type": "stream",
     "text": [
      "2023-11-21 15:08:42 urllib3.connectionpool DEBUG    https://huggingface.co:443 \"HEAD /meta-llama/Llama-2-7b-hf/resolve/main/config.json HTTP/1.1\" 200 0\n"
     ]
    },
    {
     "data": {
      "application/vnd.jupyter.widget-view+json": {
       "model_id": "f45bc085fa6b42e4b2b9a061ee066bd5",
       "version_major": 2,
       "version_minor": 0
      },
      "text/plain": [
       "Loading checkpoint shards:   0%|          | 0/2 [00:00<?, ?it/s]"
      ]
     },
     "metadata": {},
     "output_type": "display_data"
    },
    {
     "name": "stdout",
     "output_type": "stream",
     "text": [
      "2023-11-21 15:08:43 urllib3.connectionpool DEBUG    https://huggingface.co:443 \"HEAD /meta-llama/Llama-2-7b-hf/resolve/main/generation_config.json HTTP/1.1\" 200 0\n",
      "2023-11-21 15:08:45 urllib3.connectionpool DEBUG    https://huggingface.co:443 \"HEAD /meta-llama/Llama-2-7b-hf/resolve/main/tokenizer_config.json HTTP/1.1\" 200 0\n",
      "loaded model <meta-llama/Llama-2-7b-hf> | size: 12916.516 MB\n"
     ]
    }
   ],
   "source": [
    "from locality.models import ModelandTokenizer\n",
    "\n",
    "# MODEL_PATH = \"EleutherAI/gpt-j-6B\"\n",
    "MODEL_PATH = \"meta-llama/Llama-2-7b-hf\"\n",
    "# MODEL_PATH = \"mistralai/Mistral-7B-v0.1\"\n",
    "\n",
    "mt = ModelandTokenizer(model_path = MODEL_PATH)"
   ]
  },
  {
   "cell_type": "code",
   "execution_count": 46,
   "metadata": {},
   "outputs": [
    {
     "name": "stdout",
     "output_type": "stream",
     "text": [
      "2023-11-21 15:08:47 locality.functional DEBUG    filtering with prompt ` {} is located in the country of`\n"
     ]
    },
    {
     "name": "stdout",
     "output_type": "stream",
     "text": [
      "2023-11-21 15:08:48 locality.functional DEBUG    Autonomous University of Madrid -> answer='Spain' | predicted = 'Spain'(0.9682959318161011) ==> (✓)\n",
      "2023-11-21 15:08:48 locality.functional DEBUG    Pochepsky District -> answer='Russia' | predicted = 'Russia'(0.41325631737709045) ==> (✓)\n",
      "2023-11-21 15:08:48 locality.functional DEBUG    Kuala Langat -> answer='Malaysia' | predicted = 'Malays'(0.9393529891967773) ==> (✓)\n",
      "2023-11-21 15:08:48 locality.functional DEBUG    Wanne-Eickel Central Station -> answer='Germany' | predicted = 'Germany'(0.9368625283241272) ==> (✓)\n",
      "2023-11-21 15:08:48 locality.functional DEBUG    Hohenlohe-Langenburg -> answer='Germany' | predicted = 'Germany'(0.889183521270752) ==> (✓)\n",
      "2023-11-21 15:08:48 locality.functional DEBUG    Bastille -> answer='France' | predicted = 'France'(0.702483057975769) ==> (✓)\n",
      "2023-11-21 15:08:48 locality.functional DEBUG    Shablykinsky District -> answer='Russia' | predicted = 'Russia'(0.3501109778881073) ==> (✓)\n",
      "2023-11-21 15:08:48 locality.functional DEBUG    Manila Light Rail Transit System -> answer='Philippines' | predicted = 'Philippines'(0.8960710167884827) ==> (✓)\n",
      "2023-11-21 15:08:48 locality.functional DEBUG    Valdemarsvik -> answer='Sweden' | predicted = 'Sweden'(0.344608336687088) ==> (✓)\n",
      "2023-11-21 15:08:48 locality.functional DEBUG    Ozumba -> answer='Mexico' | predicted = 'Niger'(0.22859449684619904) ==> (✗)\n",
      "2023-11-21 15:08:48 locality.functional DEBUG    Piper Verlag -> answer='Germany' | predicted = 'Germany'(0.5008541345596313) ==> (✓)\n",
      "2023-11-21 15:08:48 locality.functional DEBUG    Attingal -> answer='India' | predicted = 'India'(0.927435040473938) ==> (✓)\n",
      "2023-11-21 15:08:48 locality.functional DEBUG    Georgians -> answer='Azerbaijan' | predicted = 'Georgia'(0.6322078704833984) ==> (✗)\n",
      "2023-11-21 15:08:48 locality.functional DEBUG    Nizampatnam -> answer='India' | predicted = 'India'(0.9038288593292236) ==> (✓)\n",
      "2023-11-21 15:08:48 locality.functional DEBUG    Tehri Garhwal district -> answer='India' | predicted = 'India'(0.9015491008758545) ==> (✓)\n",
      "2023-11-21 15:08:48 locality.functional DEBUG    Eirodziesma -> answer='Latvia' | predicted = 'Lat'(0.43872174620628357) ==> (✓)\n",
      "2023-11-21 15:08:48 locality.functional DEBUG    Olot -> answer='Spain' | predicted = 'Spain'(0.8179041147232056) ==> (✓)\n",
      "2023-11-21 15:08:48 locality.functional DEBUG    Sumulong Highway -> answer='Philippines' | predicted = 'Philippines'(0.5597495436668396) ==> (✓)\n",
      "2023-11-21 15:08:48 locality.functional DEBUG    Darmstadt -> answer='Germany' | predicted = 'Germany'(0.9299799799919128) ==> (✓)\n",
      "2023-11-21 15:08:48 locality.functional DEBUG    Adliswil -> answer='Switzerland' | predicted = 'Switzerland'(0.8622344136238098) ==> (✓)\n",
      "2023-11-21 15:08:48 locality.functional DEBUG    Junnar -> answer='India' | predicted = 'India'(0.8793201446533203) ==> (✓)\n",
      "2023-11-21 15:08:48 locality.functional DEBUG    Ba F.C. -> answer='Fiji' | predicted = 'China'(0.3126457929611206) ==> (✗)\n",
      "2023-11-21 15:08:48 locality.functional DEBUG    Kandiaro Taluka -> answer='Pakistan' | predicted = 'India'(0.4931526184082031) ==> (✗)\n",
      "2023-11-21 15:08:48 locality.functional DEBUG    Yoro -> answer='Honduras' | predicted = 'Japan'(0.37271031737327576) ==> (✗)\n",
      "2023-11-21 15:08:48 locality.functional DEBUG    Queen Charlotte Mountains -> answer='Canada' | predicted = 'New'(0.31924566626548767) ==> (✗)\n"
     ]
    }
   ],
   "source": [
    "from locality.functional import make_icl_prompt, filter_samples_by_model_knowledge\n",
    "\n",
    "known_samples = filter_samples_by_model_knowledge(\n",
    "    mt, \n",
    "    subj_obj_mapping=places_to_cities[:25],\n",
    "    prompt_template=\" {} is located in the country of\",\n",
    ")"
   ]
  },
  {
   "cell_type": "code",
   "execution_count": 47,
   "metadata": {},
   "outputs": [
    {
     "name": "stdout",
     "output_type": "stream",
     "text": [
      " Lacey is visiting L'Escala,  Corinna is visiting Le Puy Foot 43 Auvergne,  Florence is visiting Rottendorf. Florence is in Germany\n",
      " Thomas is visiting Fluminense F.C.,  Mervin is visiting Mezhdurechensky District,  Manuela is visiting Birendranagar. Mervin is in Russia\n",
      " Marion is visiting Wentworth Valley,  Jacqueline is visiting Pampilhosa da Serra,  Leatrice is visiting Frosinone. Leatrice is in Italy\n",
      " Lynne is visiting Tovarnik,  Carole is visiting Buda,  Lizabeth is visiting Buchan. Lynne is in Croatia\n",
      " Marguerite is visiting Media Development Authority,  Cynthia is visiting Gmina Pokrzywnica,  Jason is visiting Eirodziesma. Marguerite is in Singapore\n",
      " Janie is visiting Shakhenat Rural District,  Linda is visiting Persegres Gresik United,  Vickie is visiting Subarnapur district. Linda is in\n",
      "Indonesia\n",
      "\n",
      " Lacey is visiting L'Escala,  Corinna is visiting Le Puy Foot 43 Auvergne,  Florence is visiting Rottendorf. Florence is in Germany\n",
      " Thomas is visiting Fluminense F.C.,  Mervin is visiting Mezhdurechensky District,  Manuela is visiting Birendranagar. Mervin is in Russia\n",
      " Marion is visiting Wentworth Valley,  Jacqueline is visiting Pampilhosa da Serra,  Leatrice is visiting Frosinone. Leatrice is in Italy\n",
      " Lynne is visiting Tovarnik,  Carole is visiting Buda,  Lizabeth is visiting Buchan. Lynne is in Croatia\n",
      " Marguerite is visiting Media Development Authority,  Cynthia is visiting Gmina Pokrzywnica,  Jason is visiting Eirodziesma. Marguerite is in Singapore\n",
      " Charlene is visiting Foothills-Rocky View,  Dorla is visiting Theni district,  Lakenya is visiting Waurn Ponds. Dorla is in\n",
      "India\n",
      "\n",
      " Lacey is visiting L'Escala,  Corinna is visiting Le Puy Foot 43 Auvergne,  Florence is visiting Rottendorf. Florence is in Germany\n",
      " Thomas is visiting Fluminense F.C.,  Mervin is visiting Mezhdurechensky District,  Manuela is visiting Birendranagar. Mervin is in Russia\n",
      " Marion is visiting Wentworth Valley,  Jacqueline is visiting Pampilhosa da Serra,  Leatrice is visiting Frosinone. Leatrice is in Italy\n",
      " Lynne is visiting Tovarnik,  Carole is visiting Buda,  Lizabeth is visiting Buchan. Lynne is in Croatia\n",
      " Marguerite is visiting Media Development Authority,  Cynthia is visiting Gmina Pokrzywnica,  Jason is visiting Eirodziesma. Marguerite is in Singapore\n",
      " Helen is visiting Saint-Louis-de-Kent, New Brunswick,  Charles is visiting Minu District,  Edgar is visiting CD Eldense. Edgar is in\n",
      "Spain\n",
      "\n"
     ]
    }
   ],
   "source": [
    "limit = 3\n",
    "\n",
    "for query, answer in synth_dataset:\n",
    "    print(query)\n",
    "    print(answer)\n",
    "    print()\n",
    "    limit -= 1\n",
    "    if limit == 0:\n",
    "        break"
   ]
  },
  {
   "cell_type": "code",
   "execution_count": 68,
   "metadata": {},
   "outputs": [],
   "source": [
    "from locality.functional import get_h\n",
    "\n",
    "sample = synth_dataset.qa_samples[10]\n",
    "prompt, subject = sample.query, sample.subject\n",
    "\n",
    "hrr = get_h(\n",
    "    mt, \n",
    "    prompt, \n",
    "    subject,\n",
    "    layers = [mt.layer_name_format.format(i) for i in range(5, 10)]\n",
    ")"
   ]
  },
  {
   "cell_type": "code",
   "execution_count": 69,
   "metadata": {},
   "outputs": [
    {
     "name": "stdout",
     "output_type": "stream",
     "text": [
      "model.layers.5 torch.Size([4096])\n",
      "model.layers.6 torch.Size([4096])\n",
      "model.layers.7 torch.Size([4096])\n",
      "model.layers.8 torch.Size([4096])\n",
      "model.layers.9 torch.Size([4096])\n"
     ]
    }
   ],
   "source": [
    "for key, val in hrr.items():\n",
    "    print(key, val.shape)"
   ]
  },
  {
   "cell_type": "code",
   "execution_count": 72,
   "metadata": {},
   "outputs": [
    {
     "data": {
      "text/plain": [
       "{'input_ids': [1, 12113], 'attention_mask': [1, 1]}"
      ]
     },
     "execution_count": 72,
     "metadata": {},
     "output_type": "execute_result"
    }
   ],
   "source": [
    "mt.tokenizer(\"Apple\")"
   ]
  },
  {
   "cell_type": "code",
   "execution_count": 79,
   "metadata": {},
   "outputs": [
    {
     "ename": "TypeError",
     "evalue": "topk() missing 1 required positional arguments: \"k\"",
     "output_type": "error",
     "traceback": [
      "\u001b[0;31m---------------------------------------------------------------------------\u001b[0m",
      "\u001b[0;31mTypeError\u001b[0m                                 Traceback (most recent call last)",
      "\u001b[1;32m/home/local_arnab/Codes/locality/notebooks/test_dataset.ipynb Cell 17\u001b[0m line \u001b[0;36m4\n\u001b[1;32m      <a href='vscode-notebook-cell:/home/local_arnab/Codes/locality/notebooks/test_dataset.ipynb#X26sZmlsZQ%3D%3D?line=0'>1</a>\u001b[0m \u001b[39mimport\u001b[39;00m \u001b[39mtorch\u001b[39;00m\n\u001b[1;32m      <a href='vscode-notebook-cell:/home/local_arnab/Codes/locality/notebooks/test_dataset.ipynb#X26sZmlsZQ%3D%3D?line=2'>3</a>\u001b[0m t \u001b[39m=\u001b[39m torch\u001b[39m.\u001b[39mrandperm(\u001b[39m10\u001b[39m)\n\u001b[0;32m----> <a href='vscode-notebook-cell:/home/local_arnab/Codes/locality/notebooks/test_dataset.ipynb#X26sZmlsZQ%3D%3D?line=3'>4</a>\u001b[0m t\u001b[39m.\u001b[39;49mtopk()\n",
      "\u001b[0;31mTypeError\u001b[0m: topk() missing 1 required positional arguments: \"k\""
     ]
    }
   ],
   "source": [
    "import torch\n",
    "\n",
    "t = torch.randperm(10)\n",
    "t.topk()"
   ]
  },
  {
   "cell_type": "code",
   "execution_count": 91,
   "metadata": {},
   "outputs": [
    {
     "data": {
      "text/plain": [
       "([[PredictedToken(token='Paris', token_id=3681, prob=0.5224354863166809),\n",
       "   PredictedToken(token='the', token_id=278, prob=0.2606527507305145),\n",
       "   PredictedToken(token='France', token_id=3444, prob=0.023682858794927597),\n",
       "   PredictedToken(token='which', token_id=607, prob=0.020576022565364838),\n",
       "   PredictedToken(token='', token_id=29871, prob=0.011542102321982384)]],\n",
       " [(3,\n",
       "   PredictedToken(token='France', token_id=3444, prob=0.023682858794927597))])"
      ]
     },
     "execution_count": 91,
     "metadata": {},
     "output_type": "execute_result"
    }
   ],
   "source": [
    "from locality.functional import predict_next_token\n",
    "\n",
    "predict_next_token(\n",
    "    mt, \n",
    "    prompt = \"Eiffel Tower is located in\",\n",
    "    token_of_interest=\"France\"\n",
    ")"
   ]
  },
  {
   "cell_type": "code",
   "execution_count": 3,
   "metadata": {},
   "outputs": [
    {
     "ename": "TypeError",
     "evalue": "'int' object is not iterable",
     "output_type": "error",
     "traceback": [
      "\u001b[0;31m---------------------------------------------------------------------------\u001b[0m",
      "\u001b[0;31mTypeError\u001b[0m                                 Traceback (most recent call last)",
      "\u001b[1;32m/home/local_arnab/Codes/locality/notebooks/test_dataset.ipynb Cell 19\u001b[0m line \u001b[0;36m2\n\u001b[1;32m      <a href='vscode-notebook-cell://ssh-remote%2B10.200.205.169/home/local_arnab/Codes/locality/notebooks/test_dataset.ipynb#X24sdnNjb2RlLXJlbW90ZQ%3D%3D?line=0'>1</a>\u001b[0m arr \u001b[39m=\u001b[39m [\u001b[39m1\u001b[39m,\u001b[39m2\u001b[39m,\u001b[39m3\u001b[39m]\n\u001b[0;32m----> <a href='vscode-notebook-cell://ssh-remote%2B10.200.205.169/home/local_arnab/Codes/locality/notebooks/test_dataset.ipynb#X24sdnNjb2RlLXJlbW90ZQ%3D%3D?line=1'>2</a>\u001b[0m arr\u001b[39m.\u001b[39;49mextend(\u001b[39m4\u001b[39;49m)\n\u001b[1;32m      <a href='vscode-notebook-cell://ssh-remote%2B10.200.205.169/home/local_arnab/Codes/locality/notebooks/test_dataset.ipynb#X24sdnNjb2RlLXJlbW90ZQ%3D%3D?line=2'>3</a>\u001b[0m arr\n",
      "\u001b[0;31mTypeError\u001b[0m: 'int' object is not iterable"
     ]
    }
   ],
   "source": [
    "arr = [1,2,3]\n",
    "arr.extend(4)\n",
    "arr"
   ]
  },
  {
   "cell_type": "code",
   "execution_count": null,
   "metadata": {},
   "outputs": [],
   "source": []
  }
 ],
 "metadata": {
  "kernelspec": {
   "display_name": "Python 3",
   "language": "python",
   "name": "python3"
  },
  "language_info": {
   "codemirror_mode": {
    "name": "ipython",
    "version": 3
   },
   "file_extension": ".py",
   "mimetype": "text/x-python",
   "name": "python",
   "nbconvert_exporter": "python",
   "pygments_lexer": "ipython3",
   "version": "3.9.7"
  }
 },
 "nbformat": 4,
 "nbformat_minor": 2
}
